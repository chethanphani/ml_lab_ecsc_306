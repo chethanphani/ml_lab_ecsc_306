{
 "cells": [
  {
   "cell_type": "code",
   "execution_count": 4,
   "metadata": {},
   "outputs": [
    {
     "name": "stdout",
     "output_type": "stream",
     "text": [
      "1\n"
     ]
    }
   ],
   "source": [
    "import tensorflow as tf\n",
    "\n",
    "a=6\n",
    "b=5\n",
    "\n",
    "\n",
    "with tf.name_scope(\"lab1_assgn1\"):\n",
    "    with tf.name_scope(\"S_A\"):\n",
    "        x = tf.multiply(a, a)\n",
    "        y = tf.multiply(b, b)\n",
    "    with tf.name_scope(\"S_B\"):\n",
    "        z = tf.multiply(2, a)\n",
    "        h = tf.multiply(z, b)\n",
    "\n",
    "with tf.name_scope(\"S_C\"):\n",
    "    d = tf.add(x, y)\n",
    "    s = tf.subtract(d, h)\n",
    "\n",
    "\n",
    "\n",
    "with tf.Session() as sess:\n",
    "    writer = tf.summary.FileWriter(\"/home/a2/phani-mllab-43/out45\", sess.graph)\n",
    "    print(sess.run(s))\n",
    "    writer.close()"
   ]
  },
  {
   "cell_type": "markdown",
   "metadata": {
    "collapsed": true
   },
   "source": [
    "### New LAb1 Assignment1 1b\n"
   ]
  },
  {
   "cell_type": "code",
   "execution_count": 7,
   "metadata": {},
   "outputs": [
    {
     "name": "stdout",
     "output_type": "stream",
     "text": [
      "559\n"
     ]
    }
   ],
   "source": [
    "var_1 = tf.constant(7)\n",
    "var_2 = tf.constant(6)\n",
    "\n",
    "with tf.name_scope(\"ADD\"):\n",
    "    var_3=tf.add(var_1,var_2)\n",
    "    with tf.name_scope(\"multiply\"):\n",
    "        var_4=tf.multiply(var_1,var_1)\n",
    "        var_5=tf.multiply(var_2,var_2)\n",
    "        var_6=tf.multiply(var_1,var_2)\n",
    "        \n",
    "        with tf.name_scope(\"equation\"):\n",
    "            var_7=var_4+var_5-var_6\n",
    "            var_8=tf.multiply(var_3,var_7)\n",
    "sess=tf.Session()\n",
    "print(sess.run(var_8))\n",
    "writer = tf.summary.FileWriter(\"/home/a2/a12\", sess.graph)"
   ]
  },
  {
   "cell_type": "code",
   "execution_count": null,
   "metadata": {
    "collapsed": true
   },
   "outputs": [],
   "source": []
  }
 ],
 "metadata": {
  "kernelspec": {
   "display_name": "Python 3",
   "language": "python",
   "name": "python3"
  },
  "language_info": {
   "codemirror_mode": {
    "name": "ipython",
    "version": 3
   },
   "file_extension": ".py",
   "mimetype": "text/x-python",
   "name": "python",
   "nbconvert_exporter": "python",
   "pygments_lexer": "ipython3",
   "version": "3.6.1"
  }
 },
 "nbformat": 4,
 "nbformat_minor": 2
}
