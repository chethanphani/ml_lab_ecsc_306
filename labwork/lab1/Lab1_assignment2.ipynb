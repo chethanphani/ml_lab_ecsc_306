{
 "cells": [
  {
   "cell_type": "code",
   "execution_count": 39,
   "metadata": {
    "collapsed": true
   },
   "outputs": [],
   "source": [
    "import tensorflow as tf\n",
    "import numpy as np\n",
    "import matplotlib.pyplot as plt\n",
    "\n"
   ]
  },
  {
   "cell_type": "code",
   "execution_count": 30,
   "metadata": {},
   "outputs": [
    {
     "name": "stdout",
     "output_type": "stream",
     "text": [
      "3.0\n",
      "12.0\n",
      "[[-1.  0.  1.]]\n",
      "2.0\n"
     ]
    }
   ],
   "source": [
    "import tensorflow as tf\n",
    "\n",
    "a=tf.constant([2.0,3.0,4.0],shape=[1,3],name='a')\n",
    "b=tf.constant([11.0,12.0,13.0],shape=[1,3],name='b')\n",
    "\n",
    "with tf.name_scope(\"Xmean\"):      \n",
    "        x=tf.reduce_mean(a)\n",
    "        sess=tf.Session()\n",
    "        print(sess.run(x))\n",
    "\n",
    "with tf.name_scope(\"Ymean\"):\n",
    "        y=tf.reduce_mean(b)\n",
    "        sess=tf.Session()\n",
    "        print(sess.run(y))\n",
    "        \n",
    "with tf.name_scope(\"Variance\"):\n",
    "        d=tf.subtract(a,x)\n",
    "        sess=tf.Session()\n",
    "        print(sess.run(d ))\n",
    "\n",
    "        e=tf.square(d)\n",
    "        f=tf.reduce_sum(e)\n",
    "        sess=tf.Session()\n",
    "        print(sess.run(f))\n",
    "\n"
   ]
  },
  {
   "cell_type": "code",
   "execution_count": 31,
   "metadata": {},
   "outputs": [
    {
     "name": "stdout",
     "output_type": "stream",
     "text": [
      "2.0\n"
     ]
    }
   ],
   "source": [
    "with tf.name_scope(\"Covariance\"):\n",
    "    g=tf.subtract(b,y)\n",
    "    sess=tf.Session()\n",
    "    g=tf.multiply(d,g)\n",
    "    h=tf.reduce_sum(g)\n",
    "    print(sess.run(h))\n",
    "\n"
   ]
  },
  {
   "cell_type": "code",
   "execution_count": 32,
   "metadata": {
    "scrolled": true
   },
   "outputs": [
    {
     "name": "stdout",
     "output_type": "stream",
     "text": [
      "1.0\n"
     ]
    }
   ],
   "source": [
    "with tf.name_scope(\"C\"):\n",
    "    j=tf.divide(h,f)\n",
    "    print(sess.run(j))"
   ]
  },
  {
   "cell_type": "code",
   "execution_count": 33,
   "metadata": {},
   "outputs": [
    {
     "name": "stdout",
     "output_type": "stream",
     "text": [
      "9.0\n"
     ]
    }
   ],
   "source": [
    "with tf.name_scope(\"m\"):\n",
    "    writer=tf.summary.FileWriter('/home/phani',sess.graph)\n",
    "    i=tf.multiply(j,x)\n",
    "    k=tf.subtract(y,i)\n",
    "    print(sess.run(k))"
   ]
  },
  {
   "cell_type": "code",
   "execution_count": null,
   "metadata": {},
   "outputs": [],
   "source": []
  },
  {
   "cell_type": "markdown",
   "metadata": {
    "collapsed": true
   },
   "source": [
    "# Part B\n",
    "### RMSE calculation and plotting of actual values vs predicted values "
   ]
  },
  {
   "cell_type": "code",
   "execution_count": 34,
   "metadata": {},
   "outputs": [
    {
     "name": "stdout",
     "output_type": "stream",
     "text": [
      "0.816497\n"
     ]
    }
   ],
   "source": [
    "with tf.name_scope(\"root_mean_square_error\"):\n",
    "    tmp=tf.subtract(b,y)\n",
    "    tmp1=tf.multiply(tmp, tmp)\n",
    "    sumoftmp1=tf.reduce_sum(tmp1)\n",
    "    tmp2=tf.divide(sumoftmp1, 3,)\n",
    "    RMSE=tf.sqrt(tmp2)\n",
    "    print (sess.run(RMSE))"
   ]
  },
  {
   "cell_type": "code",
   "execution_count": 38,
   "metadata": {},
   "outputs": [
    {
     "name": "stdout",
     "output_type": "stream",
     "text": [
      "[12.0, 14.0, 16.0, 17.0, 18.0]\n"
     ]
    }
   ],
   "source": [
    "\n",
    "with tf.Session() as sess:\n",
    "    x_values=sess.run(a)\n",
    "    y_values=sess.run(b)\n",
    "X = np.asarray(x_values)\n",
    "Y = np.asarray(y_values)\n",
    "\n",
    "x_values_FOR_prediction=tf.constant([3.0,5.0, 7.0, 8.0, 9.0])\n",
    "with tf.Session() as sess:\n",
    "    tmp3=sess.run(x_values_FOR_prediction)\n",
    "x_values_FOR_prediction_1=np.asarray(tmp3)\n",
    "\n",
    "y_array=[0]*5\n",
    "    \n",
    "with tf.Session() as sess:\n",
    "        for i in range(len(sess.run(x_values_FOR_prediction))):\n",
    "            curr = sess.run(x_values_FOR_prediction[i])\n",
    "            a=tf.multiply(curr,j)\n",
    "            b=tf.add(a,k)\n",
    "            y_array[i]=sess.run(b)\n",
    "print(y_array)\n"
   ]
  },
  {
   "cell_type": "code",
   "execution_count": 48,
   "metadata": {},
   "outputs": [
    {
     "data": {
      "image/png": "[encoded data removed]",
      "text/plain": [
       "<matplotlib.figure.Figure at 0x7f8d0c4c89e8>"
      ]
     },
     "metadata": {},
     "output_type": "display_data"
    },
    {
     "name": "stderr",
     "output_type": "stream",
     "text": [
      "/home/phani/anaconda3/lib/python3.6/site-packages/matplotlib/axes/_axes.py:545: UserWarning: No labelled objects found. Use label='...' kwarg on individual plots.\n",
      "  warnings.warn(\"No labelled objects found. \"\n"
     ]
    }
   ],
   "source": [
    "\n",
    "plt.plot(x_values_FOR_prediction_1, y_array, label='fitted line')\n",
    "plt.plot(X,Y,'ro',label='Actual values')\n",
    "plt.show()\n",
    "plt.legend()"
   ]
  },
  {
   "cell_type": "code",
   "execution_count": null,
   "metadata": {},
   "outputs": [],
   "source": []
  },
  {
   "cell_type": "code",
   "execution_count": null,
   "metadata": {
    "collapsed": true
   },
   "outputs": [],
   "source": []
  }
 ],
 "metadata": {
  "kernelspec": {
   "display_name": "Python 3",
   "language": "python",
   "name": "python3"
  },
  "language_info": {
   "codemirror_mode": {
    "name": "ipython",
    "version": 3
   },
   "file_extension": ".py",
   "mimetype": "text/x-python",
   "name": "python",
   "nbconvert_exporter": "python",
   "pygments_lexer": "ipython3",
   "version": "3.6.1"
  }
 },
 "nbformat": 4,
 "nbformat_minor": 2
}
