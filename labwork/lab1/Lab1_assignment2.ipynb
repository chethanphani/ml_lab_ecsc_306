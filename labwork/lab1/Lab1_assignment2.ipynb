{
 "cells": [
  {
   "cell_type": "code",
   "execution_count": 26,
   "metadata": {
    "collapsed": true
   },
   "outputs": [],
   "source": [
    "import tensorflow as tf\n",
    "import numpy as np\n",
    "\n"
   ]
  },
  {
   "cell_type": "code",
   "execution_count": 46,
   "metadata": {},
   "outputs": [
    {
     "name": "stdout",
     "output_type": "stream",
     "text": [
      "3.0\n",
      "12.0\n",
      "[[-1.  0.  1.]]\n",
      "2.0\n"
     ]
    }
   ],
   "source": [
    "import tensorflow as tf\n",
    "\n",
    "a=tf.constant([2.0,3.0,4.0],shape=[1,3],name='a')\n",
    "b=tf.constant([11.0,12.0,13.0],shape=[1,3],name='b')\n",
    "\n",
    "with tf.name_scope(\"Xmean\"):      \n",
    "        x=tf.reduce_mean(a)\n",
    "        sess=tf.Session()\n",
    "        print(sess.run(x))\n",
    "\n",
    "with tf.name_scope(\"Ymean\"):\n",
    "        y=tf.reduce_mean(b)\n",
    "        sess=tf.Session()\n",
    "        print(sess.run(y))\n",
    "        \n",
    "with tf.name_scope(\"Variance\"):\n",
    "        d=tf.subtract(a,x)\n",
    "        sess=tf.Session()\n",
    "        print(sess.run(d ))\n",
    "\n",
    "        e=tf.square(d)\n",
    "        f=tf.reduce_sum(e)\n",
    "        sess=tf.Session()\n",
    "        print(sess.run(f))\n",
    "\n"
   ]
  },
  {
   "cell_type": "code",
   "execution_count": 47,
   "metadata": {},
   "outputs": [
    {
     "name": "stdout",
     "output_type": "stream",
     "text": [
      "2.0\n",
      "1.0\n",
      "1.0\n"
     ]
    }
   ],
   "source": [
    "with tf.name_scope(\"Covariance\"):\n",
    "    g=tf.subtract(b,y)\n",
    "    sess=tf.Session()\n",
    "    g=tf.multiply(d,g)\n",
    "    h=tf.reduce_sum(g)\n",
    "    print(sess.run(h))\n",
    "\n"
   ]
  },
  {
   "cell_type": "code",
   "execution_count": 48,
   "metadata": {
    "scrolled": true
   },
   "outputs": [
    {
     "name": "stdout",
     "output_type": "stream",
     "text": [
      "1.0\n"
     ]
    }
   ],
   "source": [
    "with tf.name_scope(\"C\"):\n",
    "    j=tf.divide(h,f)\n",
    "    print(sess.run(j))"
   ]
  },
  {
   "cell_type": "code",
   "execution_count": 50,
   "metadata": {},
   "outputs": [
    {
     "name": "stdout",
     "output_type": "stream",
     "text": [
      "1.0\n"
     ]
    }
   ],
   "source": [
    "with tf.name_scope(\"m\"):\n",
    "    writer=tf.summary.FileWriter('/home/a2/phani-mllab-43',sess.graph)\n",
    "    i=tf.multiply(j,x)\n",
    "    k=tf.subtract(y,i)\n",
    "    print(sess.run(j))"
   ]
  },
  {
   "cell_type": "code",
   "execution_count": null,
   "metadata": {
    "collapsed": true
   },
   "outputs": [],
   "source": []
  },
  {
   "cell_type": "code",
   "execution_count": null,
   "metadata": {
    "collapsed": true
   },
   "outputs": [],
   "source": []
  }
 ],
 "metadata": {
  "kernelspec": {
   "display_name": "Python 3",
   "language": "python",
   "name": "python3"
  },
  "language_info": {
   "codemirror_mode": {
    "name": "ipython",
    "version": 3
   },
   "file_extension": ".py",
   "mimetype": "text/x-python",
   "name": "python",
   "nbconvert_exporter": "python",
   "pygments_lexer": "ipython3",
   "version": "3.6.1"
  }
 },
 "nbformat": 4,
 "nbformat_minor": 2
}
