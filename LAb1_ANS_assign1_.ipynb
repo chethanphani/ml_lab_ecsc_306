{
 "cells": [
  {
   "cell_type": "code",
   "execution_count": 16,
   "metadata": {
    "collapsed": true
   },
   "outputs": [],
   "source": [
    "import tensorflow as tf\n",
    "import numpy as np\n",
    "import matplotlib.pyplot as plt\n",
    "\n",
    "l_r = 0.01\n",
    "epochs = 1000\n",
    "step = 50\n",
    "\n",
    "l_r=tf.cast(l_r,'float64')\n",
    "\n",
    "trX = np.asarray([1.0,2.0,4.0,3.0,5.0])\n",
    "trY = np.asarray([1.0,3.0,3.0,2.0,5.0])\n",
    "\n",
    "#trX1 = tf.constant([1.0,2.0,4.0,3.0,5.0])\n",
    "#trY1 = tf.constant([1.0,3.0,3.0,2.0,5.0])\n",
    "\n",
    "\n",
    "\n",
    "#nu= tf.size(trX)\n",
    "nu = trX.shape[0]\n",
    "nu=tf.cast(nu,'float64')\n",
    "\n",
    "X = tf.placeholder(\"float64\") # create symbolic variables\n",
    "Y = tf.placeholder(\"float64\")\n",
    "\n",
    "m = tf.Variable(0.0, name=\"weight\")\n",
    "c = tf.Variable(0.0, name=\"bias\")\n",
    "\n"
   ]
  },
  {
   "cell_type": "code",
   "execution_count": 17,
   "metadata": {
    "collapsed": true
   },
   "outputs": [],
   "source": [
    "mean_x = tf.reduce_mean(trX)\n",
    "mean_y = tf.reduce_mean(trY)"
   ]
  },
  {
   "cell_type": "code",
   "execution_count": 18,
   "metadata": {
    "collapsed": true
   },
   "outputs": [],
   "source": [
    "var = tf.divide(tf.reduce_sum(tf.square(tf.subtract(trX,mean_x))),nu)"
   ]
  },
  {
   "cell_type": "code",
   "execution_count": 19,
   "metadata": {
    "collapsed": true
   },
   "outputs": [],
   "source": [
    "covar = tf.divide(tf.reduce_sum(tf.multiply(tf.subtract(trX,mean_x),tf.subtract(trY,mean_y))),nu)"
   ]
  },
  {
   "cell_type": "code",
   "execution_count": 20,
   "metadata": {},
   "outputs": [
    {
     "data": {
      "text/plain": [
       "0.39999999999999947"
      ]
     },
     "execution_count": 20,
     "metadata": {},
     "output_type": "execute_result"
    }
   ],
   "source": [
    "m=tf.divide(covar,var)\n",
    "c=tf.subtract(mean_y,tf.multiply(m,mean_x))\n",
    "\n",
    "m=tf.cast(m,'float64')\n",
    "c=tf.cast(c,'float64')\n",
    "\n",
    "ss = tf.Session()\n",
    "ss.run(c)"
   ]
  },
  {
   "cell_type": "code",
   "execution_count": null,
   "metadata": {},
   "outputs": [],
   "source": [
    " \n",
    "   \n",
    "    "
   ]
  },
  {
   "cell_type": "code",
   "execution_count": 21,
   "metadata": {},
   "outputs": [
    {
     "name": "stdout",
     "output_type": "stream",
     "text": [
      "Epoch: 0050 cost= 0.240000000 M= 0.8 C= 0.4\n",
      "Epoch: 0100 cost= 0.240000000 M= 0.8 C= 0.4\n",
      "Epoch: 0150 cost= 0.240000000 M= 0.8 C= 0.4\n",
      "Epoch: 0200 cost= 0.240000000 M= 0.8 C= 0.4\n",
      "Epoch: 0250 cost= 0.240000000 M= 0.8 C= 0.4\n",
      "Epoch: 0300 cost= 0.240000000 M= 0.8 C= 0.4\n",
      "Epoch: 0350 cost= 0.240000000 M= 0.8 C= 0.4\n",
      "Epoch: 0400 cost= 0.240000000 M= 0.8 C= 0.4\n",
      "Epoch: 0450 cost= 0.240000000 M= 0.8 C= 0.4\n",
      "Epoch: 0500 cost= 0.240000000 M= 0.8 C= 0.4\n",
      "Epoch: 0550 cost= 0.240000000 M= 0.8 C= 0.4\n",
      "Epoch: 0600 cost= 0.240000000 M= 0.8 C= 0.4\n",
      "Epoch: 0650 cost= 0.240000000 M= 0.8 C= 0.4\n",
      "Epoch: 0700 cost= 0.240000000 M= 0.8 C= 0.4\n",
      "Epoch: 0750 cost= 0.240000000 M= 0.8 C= 0.4\n",
      "Epoch: 0800 cost= 0.240000000 M= 0.8 C= 0.4\n",
      "Epoch: 0850 cost= 0.240000000 M= 0.8 C= 0.4\n",
      "Epoch: 0900 cost= 0.240000000 M= 0.8 C= 0.4\n",
      "Epoch: 0950 cost= 0.240000000 M= 0.8 C= 0.4\n",
      "Epoch: 1000 cost= 0.240000000 M= 0.8 C= 0.4\n"
     ]
    }
   ],
   "source": [
    "cal_Y = tf.add(tf.multiply(m,X),c)\n",
    "cost = tf.reduce_sum(tf.pow(cal_Y-Y, 2))/(2*nu)\n",
    "\n",
    "init = tf.global_variables_initializer()\n",
    "\n",
    "\n",
    "def GDO(m,c,l_r,cost):\n",
    "\n",
    "    t1 = tf.subtract(m,tf.multiply(tf.multiply(l_r,cost),X))\n",
    "    t2 = tf.subtract(c,tf.multiply(l_r,cost))\n",
    "    m=t1\n",
    "    c=t2        \n",
    "    return m,c\n",
    "\n",
    "opti = GDO(m,c,l_r,cost)\n",
    "\n",
    "with tf.Session() as sess:\n",
    "    sess.run(init)\n",
    "    for epoch in range(epochs):    \n",
    "        for (x, y) in zip(trX, trY):\n",
    "            sess.run(opti, feed_dict={X: x, Y: y})\n",
    "          \n",
    "        \n",
    "        if (epoch+1) % step == 0:\n",
    "            CC = sess.run(cost, feed_dict={X: trX, Y:trY})\n",
    "            print (\"Epoch:\", '%04d' % (epoch+1), \"cost=\", \"{:.9f}\".format(CC),\"M=\", sess.run(m), \"C=\", sess.run(c))"
   ]
  },
  {
   "cell_type": "code",
   "execution_count": null,
   "metadata": {
    "collapsed": true
   },
   "outputs": [],
   "source": []
  },
  {
   "cell_type": "code",
   "execution_count": null,
   "metadata": {
    "collapsed": true
   },
   "outputs": [],
   "source": []
  },
  {
   "cell_type": "code",
   "execution_count": null,
   "metadata": {
    "collapsed": true
   },
   "outputs": [],
   "source": []
  },
  {
   "cell_type": "markdown",
   "metadata": {
    "collapsed": true
   },
   "source": [
    "ss = tf.Session()\n",
    "\n",
    "\n",
    "def step_gradient(b_cur, m_cur,l_r):\n",
    "    b_gradient = 0\n",
    "    m_gradient = 0\n",
    "    \n",
    "    for (x,y) in zip(trX,trY):\n",
    "        b_gradient += -(2/nu) * (y - ((m_cur * x) + b_cur))\n",
    "        m_gradient += -(2/nu) * x * (y - ((m_cur * x) + b_cur))\n",
    "    new_b = b_cur - (l_r * b_gradient)\n",
    "    new_m = m_cur - (l_r * m_gradient)\n",
    "    return [new_b, new_m]\n",
    "\n",
    "def gradient_descent_runner(b,m,l_r):\n",
    "    b = b\n",
    "    m = m\n",
    "    for epoch in range(epochs):\n",
    "        b, m = step_gradient(b, m,l_r)\n",
    "    return [b, m]\n",
    "\n",
    "def runn():\n",
    "    [b, m] = gradient_descent_runner(0,0,l_r)\n",
    "\n",
    "ss.run(runn())\n",
    "   "
   ]
  },
  {
   "cell_type": "code",
   "execution_count": null,
   "metadata": {
    "collapsed": true
   },
   "outputs": [],
   "source": []
  }
 ],
 "metadata": {
  "kernelspec": {
   "display_name": "Python 3",
   "language": "python",
   "name": "python3"
  },
  "language_info": {
   "codemirror_mode": {
    "name": "ipython",
    "version": 3
   },
   "file_extension": ".py",
   "mimetype": "text/x-python",
   "name": "python",
   "nbconvert_exporter": "python",
   "pygments_lexer": "ipython3",
   "version": "3.6.1"
  }
 },
 "nbformat": 4,
 "nbformat_minor": 2
}
